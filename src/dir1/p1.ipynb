{
 "cells": [
  {
   "attachments": {},
   "cell_type": "markdown",
   "metadata": {},
   "source": [
    "# PyTorch Freecodecamp Tutorial"
   ]
  },
  {
   "cell_type": "code",
   "execution_count": 69,
   "metadata": {},
   "outputs": [
    {
     "name": "stdout",
     "output_type": "stream",
     "text": [
      "About to learn PyTorch\n"
     ]
    }
   ],
   "source": [
    "print(\"About to learn PyTorch\")"
   ]
  },
  {
   "cell_type": "markdown",
   "metadata": {},
   "source": []
  },
  {
   "cell_type": "code",
   "execution_count": 70,
   "metadata": {},
   "outputs": [],
   "source": [
    "import torch\n",
    "import pandas as pd\n",
    "import numpy as np\n",
    "import matplotlib.pyplot as plt"
   ]
  },
  {
   "cell_type": "code",
   "execution_count": 71,
   "metadata": {},
   "outputs": [
    {
     "name": "stdout",
     "output_type": "stream",
     "text": [
      "2.0.1+cu117\n"
     ]
    }
   ],
   "source": [
    "print(torch.__version__)"
   ]
  },
  {
   "attachments": {},
   "cell_type": "markdown",
   "metadata": {},
   "source": [
    "## Introduction to Tensors\n",
    "\n",
    "### Creating Tensors\n",
    "\n",
    "Pytorch tensors are created using torch.tensor ot torch.Tensor"
   ]
  },
  {
   "cell_type": "code",
   "execution_count": 72,
   "metadata": {},
   "outputs": [
    {
     "name": "stdout",
     "output_type": "stream",
     "text": [
      "tensor(7)\n",
      "0\n",
      "torch.Size([])\n",
      "7\n"
     ]
    }
   ],
   "source": [
    "scalar = torch.tensor(7)\n",
    "print(scalar)\n",
    "\n",
    "print(scalar.ndim)\n",
    "print(scalar.shape)\n",
    "\n",
    "# Get tensor back as python int\n",
    "print(scalar.item())"
   ]
  },
  {
   "cell_type": "code",
   "execution_count": 73,
   "metadata": {},
   "outputs": [
    {
     "name": "stdout",
     "output_type": "stream",
     "text": [
      "tensor([7, 7])\n",
      "1\n",
      "torch.Size([2])\n"
     ]
    }
   ],
   "source": [
    "# Vector\n",
    "vector  = torch.tensor([7,7])\n",
    "print(vector)\n",
    "print(vector.ndim)\n",
    "print(vector.shape)"
   ]
  },
  {
   "cell_type": "code",
   "execution_count": 74,
   "metadata": {},
   "outputs": [
    {
     "name": "stdout",
     "output_type": "stream",
     "text": [
      "tensor([[ 7,  9],\n",
      "        [ 9, 10]])\n",
      "2\n",
      "torch.Size([2, 2])\n",
      "tensor([ 9, 10])\n"
     ]
    }
   ],
   "source": [
    "MATRIX = torch.tensor([[7, 9],[9, 10]])\n",
    "print(MATRIX)\n",
    "print(MATRIX.ndim)\n",
    "print(MATRIX.shape)\n",
    "print(MATRIX[1])"
   ]
  },
  {
   "cell_type": "code",
   "execution_count": 75,
   "metadata": {},
   "outputs": [
    {
     "name": "stdout",
     "output_type": "stream",
     "text": [
      "tensor([[[1, 2, 3],\n",
      "         [4, 5, 6],\n",
      "         [7, 8, 9]]])\n",
      "3\n",
      "torch.Size([1, 3, 3])\n",
      "tensor([[1, 2, 3],\n",
      "        [4, 5, 6],\n",
      "        [7, 8, 9]])\n"
     ]
    }
   ],
   "source": [
    "TENSOR = torch.tensor([[[1,2,3],[4,5,6],[7,8,9]]])\n",
    "print(TENSOR)\n",
    "print(TENSOR.ndim)\n",
    "print(TENSOR.shape)\n",
    "print(TENSOR[0])"
   ]
  },
  {
   "attachments": {},
   "cell_type": "markdown",
   "metadata": {},
   "source": [
    "### Random Tensors\n",
    "\n",
    "Why tensors?\n",
    "Random tensors are important because the way the neural networks learn is  that tthey  start with tensors  full of random numbers  and then adjust those numbers to better represent the data"
   ]
  },
  {
   "cell_type": "code",
   "execution_count": 76,
   "metadata": {},
   "outputs": [
    {
     "name": "stdout",
     "output_type": "stream",
     "text": [
      "tensor([[0.3987, 0.5068, 0.5857, 0.2785],\n",
      "        [0.0081, 0.5735, 0.8031, 0.2365],\n",
      "        [0.3124, 0.3880, 0.9751, 0.9190]])\n"
     ]
    }
   ],
   "source": [
    "# Create a tensor of a random size\n",
    "random_tensor = torch.rand(3,4)\n",
    "print(random_tensor)"
   ]
  },
  {
   "cell_type": "code",
   "execution_count": 77,
   "metadata": {},
   "outputs": [
    {
     "name": "stdout",
     "output_type": "stream",
     "text": [
      "torch.Size([224, 224, 3]) 3\n"
     ]
    }
   ],
   "source": [
    "random_image_size_tensor = torch.rand(size=(224,224,3))\n",
    "print(random_image_size_tensor.shape, random_image_size_tensor.ndim)"
   ]
  },
  {
   "attachments": {},
   "cell_type": "markdown",
   "metadata": {},
   "source": [
    "### Zeroes and Ones"
   ]
  },
  {
   "cell_type": "code",
   "execution_count": 78,
   "metadata": {},
   "outputs": [],
   "source": [
    "zeros = torch.zeros(size=(3,4))\n",
    "ones = torch.ones(size=(3,4))\n",
    "# print(zeros)\n",
    "# print(ones)"
   ]
  },
  {
   "attachments": {},
   "cell_type": "markdown",
   "metadata": {},
   "source": [
    "### Range and Like"
   ]
  },
  {
   "cell_type": "code",
   "execution_count": 79,
   "metadata": {},
   "outputs": [
    {
     "name": "stdout",
     "output_type": "stream",
     "text": [
      "tensor([ 1,  2,  3,  4,  5,  6,  7,  8,  9, 10])\n",
      "tensor([0, 0, 0, 0, 0, 0, 0, 0, 0, 0])\n"
     ]
    }
   ],
   "source": [
    "one_to_ten = torch.arange(start=1,end=11,step=1)\n",
    "print(one_to_ten)\n",
    "\n",
    "zeros_like = torch.zeros_like(one_to_ten)\n",
    "print(zeros_like)"
   ]
  },
  {
   "attachments": {},
   "cell_type": "markdown",
   "metadata": {},
   "source": [
    "### Tensor datatypes\n",
    "\n",
    "**Note** : Tensor datatypes is one of the 3 big errors  you'll run into iin PyTorch and deep learning\n",
    "1. Not right data type\n",
    "2. Not right shape\n",
    "3. Not right device"
   ]
  },
  {
   "cell_type": "code",
   "execution_count": 80,
   "metadata": {},
   "outputs": [],
   "source": [
    "float_32_tensor = torch.tensor([3.0, 6.0, 9.0],dtype=None,device=None,requires_grad=False)\n",
    "\n",
    "float_16_tensor = float_32_tensor.type(torch.float16)"
   ]
  },
  {
   "cell_type": "code",
   "execution_count": 81,
   "metadata": {},
   "outputs": [],
   "source": [
    "int_32_tensor = torch.tensor([3,6,9], dtype=torch.int32)\n",
    "int_32_tensor = torch.tensor([3,6,9], dtype=torch.int64)\n",
    "int_32_tensor = torch.tensor([3,6,9], dtype=torch.float16)\n",
    "int_32_tensor = torch.tensor([3,6,9], dtype=torch.float32)\n",
    "int_32_tensor = torch.tensor([3,6,9], dtype=torch.long)"
   ]
  },
  {
   "attachments": {},
   "cell_type": "markdown",
   "metadata": {},
   "source": [
    "### Print details\n",
    "\n",
    "Helpful in troubleshooting problems"
   ]
  },
  {
   "cell_type": "code",
   "execution_count": 82,
   "metadata": {},
   "outputs": [
    {
     "name": "stdout",
     "output_type": "stream",
     "text": [
      "tensor([[0.8607, 0.3215, 0.7387, 0.6618],\n",
      "        [0.3711, 0.9369, 0.6863, 0.0761],\n",
      "        [0.9262, 0.1726, 0.8213, 0.4122]])\n",
      "Data type : torch.float32\n",
      "Shape : torch.Size([3, 4])\n",
      "Size : torch.Size([3, 4])\n",
      "Data type : cpu\n"
     ]
    }
   ],
   "source": [
    "some_tensor = torch.rand(3,4)\n",
    "print(some_tensor)\n",
    "print(f\"Data type : {some_tensor.dtype}\")\n",
    "print(f\"Shape : {some_tensor.shape}\")\n",
    "print(f\"Size : {some_tensor.size()}\")\n",
    "print(f\"Data type : {some_tensor.device}\")"
   ]
  },
  {
   "attachments": {},
   "cell_type": "markdown",
   "metadata": {},
   "source": [
    "### Manipulating Tensors (tensor operations)\n",
    "\n",
    "Tensor operations include \n",
    "- Addition\n",
    "- Subtraction\n",
    "- Multiplication\n",
    "- Division\n",
    "- Matrix Multiplication"
   ]
  },
  {
   "cell_type": "code",
   "execution_count": 83,
   "metadata": {},
   "outputs": [
    {
     "name": "stdout",
     "output_type": "stream",
     "text": [
      "tensor([11, 12, 13])\n",
      "tensor([10, 20, 30])\n",
      "tensor([0.1000, 0.2000, 0.3000])\n"
     ]
    }
   ],
   "source": [
    "# Create a tensor\n",
    "\n",
    "tensor1 = torch.tensor([1,2,3])\n",
    "print(tensor1 + 10)\n",
    "print(tensor1 * 10)\n",
    "print(tensor1 / 10)"
   ]
  },
  {
   "cell_type": "code",
   "execution_count": 84,
   "metadata": {},
   "outputs": [
    {
     "name": "stdout",
     "output_type": "stream",
     "text": [
      "tensor([1, 4, 9])\n",
      "tensor(14)\n"
     ]
    }
   ],
   "source": [
    "# Multiplication can be of two types :-\n",
    "# Element wise\n",
    "\n",
    "tensor2 = torch.tensor([1,2,3])\n",
    "print(tensor2*tensor2)\n",
    "\n",
    "# Matrix multiplication (dot product)\n",
    "print(torch.matmul(tensor2,tensor2))"
   ]
  },
  {
   "cell_type": "code",
   "execution_count": 85,
   "metadata": {},
   "outputs": [],
   "source": [
    "# Use built-in functions as they are more efficient "
   ]
  },
  {
   "cell_type": "markdown",
   "metadata": {},
   "source": [
    "# Two conditions for matrix multiplication\n",
    "1. The inner dimensions must match\n",
    "(3,2) * (3,2) won't work\n",
    "(3,2) * (2,3) will work\n",
    "\n",
    "Note :\n",
    "In pytorch , we use torch.mm or torch.matmul for both matrix multiplication and dot product\n",
    "the idea being if the tensors are 1-D then the result will be a dot product\n",
    "else the result be standard matrix multiplication"
   ]
  },
  {
   "cell_type": "code",
   "execution_count": 86,
   "metadata": {},
   "outputs": [
    {
     "name": "stdout",
     "output_type": "stream",
     "text": [
      "Original Tensor : \n",
      "tensor([[1, 2, 4],\n",
      "        [3, 1, 2]])\n",
      "Transpose \n",
      "tensor([[1, 3],\n",
      "        [2, 1],\n",
      "        [4, 2]])\n",
      "Matrix multiplication \n",
      "tensor([[21, 13],\n",
      "        [13, 14]])\n",
      "tensor([[21, 13],\n",
      "        [13, 14]])\n"
     ]
    }
   ],
   "source": [
    "# Transpose \n",
    "# transpose helps fix dimension/shape errors\n",
    "# transpose switches the axes/dimensions of a vector\n",
    "\n",
    "tensorB = torch.tensor([[1,2,4],[3,1,2]])\n",
    "\n",
    "print(\"Original Tensor : \")\n",
    "print(tensorB)\n",
    "print(\"Transpose \")\n",
    "print(tensorB.T)\n",
    "\n",
    "print(\"Matrix multiplication \")\n",
    "print(torch.matmul(tensorB, tensorB.T))\n",
    "\n",
    "# You could also do \n",
    "print(torch.mm(tensorB,tensorB.T))"
   ]
  },
  {
   "cell_type": "markdown",
   "metadata": {},
   "source": [
    "# Aggregate functions\n",
    "\n",
    "min,max,mean,sum\n",
    "\n",
    "Note : torch.mean cannot work with int64, int32 data types\n",
    "it cal work with float32 data types"
   ]
  },
  {
   "cell_type": "code",
   "execution_count": 87,
   "metadata": {},
   "outputs": [
    {
     "name": "stdout",
     "output_type": "stream",
     "text": [
      "tensor([ 0, 10, 20, 30, 40, 50, 60, 70, 80, 90]) torch.int64\n"
     ]
    }
   ],
   "source": [
    "# Create a tensor\n",
    "x = torch.arange(0,100,10)\n",
    "print(x, x.dtype)"
   ]
  },
  {
   "cell_type": "code",
   "execution_count": 90,
   "metadata": {},
   "outputs": [
    {
     "name": "stdout",
     "output_type": "stream",
     "text": [
      "Min : \n",
      "tensor(0)\n",
      "tensor(0)\n",
      "Max : \n",
      "tensor(90)\n",
      "tensor(90)\n",
      "Sum : \n",
      "tensor(450)\n",
      "tensor(450)\n",
      "Mean : \n",
      "tensor(45.)\n",
      "tensor(45.)\n"
     ]
    }
   ],
   "source": [
    "print(\"Min : \")\n",
    "print(torch.min(x))\n",
    "print(x.min())\n",
    "\n",
    "print(\"Max : \")\n",
    "print(torch.max(x))\n",
    "print(x.max())\n",
    "\n",
    "print(\"Sum : \")\n",
    "print(torch.sum(x))\n",
    "print(x.sum())\n",
    "\n",
    "\n",
    "print(\"Mean : \")\n",
    "# Following does not work \n",
    "# You must explicitly type cast it\n",
    "# print(torch.mean(x))\n",
    "\n",
    "print(torch.mean(x.type(torch.float32)))\n",
    "print(x.type(torch.float32).mean())"
   ]
  },
  {
   "cell_type": "code",
   "execution_count": null,
   "metadata": {},
   "outputs": [],
   "source": []
  },
  {
   "cell_type": "markdown",
   "metadata": {},
   "source": [
    "# Positional Max , Min\n",
    "\n",
    "#### Argmax -> Index of the max element\n",
    "#### Argmin -> Index of the min element\n"
   ]
  },
  {
   "cell_type": "code",
   "execution_count": 92,
   "metadata": {},
   "outputs": [
    {
     "name": "stdout",
     "output_type": "stream",
     "text": [
      "Argmax : \n",
      "tensor(9)\n",
      "tensor(9)\n",
      "Argmin : \n",
      "tensor(0)\n",
      "tensor(0)\n"
     ]
    }
   ],
   "source": [
    "print(\"Argmax : \")\n",
    "print(torch.argmax(x))\n",
    "print(x.argmax())\n",
    "\n",
    "print(\"Argmin : \")\n",
    "print(torch.argmin(x))\n",
    "print(x.argmin())"
   ]
  },
  {
   "cell_type": "markdown",
   "metadata": {},
   "source": [
    "# Reshaping, Stacking, Squeezing, , Unsqueezing tensors\n",
    "\n",
    "\n",
    "reshaping - reshapes an input tensor to a defined shape  \n",
    "stacking - combining multiple tensors on top of each other (vstack) or side by side (hstack)  \n"
   ]
  },
  {
   "cell_type": "code",
   "execution_count": null,
   "metadata": {},
   "outputs": [],
   "source": []
  }
 ],
 "metadata": {
  "kernelspec": {
   "display_name": ".venv",
   "language": "python",
   "name": "python3"
  },
  "language_info": {
   "codemirror_mode": {
    "name": "ipython",
    "version": 3
   },
   "file_extension": ".py",
   "mimetype": "text/x-python",
   "name": "python",
   "nbconvert_exporter": "python",
   "pygments_lexer": "ipython3",
   "version": "3.10.12"
  },
  "orig_nbformat": 4
 },
 "nbformat": 4,
 "nbformat_minor": 2
}
